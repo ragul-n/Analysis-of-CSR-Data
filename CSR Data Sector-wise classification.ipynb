{
 "cells": [
  {
   "cell_type": "code",
   "execution_count": 1,
   "id": "eff55a43",
   "metadata": {},
   "outputs": [],
   "source": [
    "import pandas as pd"
   ]
  },
  {
   "cell_type": "code",
   "execution_count": 2,
   "id": "fafa360f",
   "metadata": {},
   "outputs": [],
   "source": [
    "data=pd.read_html(\"https://companiesinn.com/articles/industrial-activity-code-for-company-llp-registration-e-form-spice32-and-fillip\")\n",
    "\n",
    "industry_code = pd.concat(data[:-1], ignore_index=True)\n",
    "\n",
    "industry_code.columns= [\"code\", \"Business Description\", \"Category\"]\n",
    "\n",
    "industry_code=industry_code[1:]\n",
    "\n",
    "industry_code[\"code\"]=industry_code[\"code\"].str.replace(\"Activity Code \", \"\")\n",
    "industry_code.head()\n",
    "\n",
    "industry_code.to_csv(\"industry code.csv\", index=False)"
   ]
  },
  {
   "cell_type": "code",
   "execution_count": 9,
   "id": "a40a20c0",
   "metadata": {},
   "outputs": [],
   "source": [
    "csr_data=pd.read_csv(\"master_data_plus.csv\")\n",
    "csr_data[\"industry_code\"]= [i[1:3] for i in csr_data[\"CIN\"]]\n"
   ]
  },
  {
   "cell_type": "code",
   "execution_count": 28,
   "id": "ead63909",
   "metadata": {},
   "outputs": [],
   "source": [
    "final_data=csr_data.merge(industry_code, left_on=\"industry_code\", right_on=\"code\", how=\"left\")\n",
    "\n",
    "final_data= final_data[['csr_projects', 'development_sector', 'state', 'district',\n",
    "       'project_amount_outlay', 'amount_spent', 'implementation_mode', 'year',\n",
    "       'CIN', 'avg_net_profit', 'csr_prescribed', 'csr_spent',\n",
    "       'local_area_spent', 'company_hq', 'RoC', 'class', 'company_type',\n",
    "       'sub_caategory', 'listing_status', 'industry_code', 'Business Description',\n",
    "       'Category', 'gsdp_pc', 'population', 'atc_losses', 'business_ease', 'States_category', 'governance_score',\n",
    "       'hdi', 'gdi']]\n",
    "\n",
    "final_data.to_csv(\"master_data_plus.csv\", index=False)"
   ]
  },
  {
   "cell_type": "code",
   "execution_count": 27,
   "id": "e93315b5",
   "metadata": {},
   "outputs": [
    {
     "data": {
      "text/plain": [
       "1589"
      ]
     },
     "execution_count": 27,
     "metadata": {},
     "output_type": "execute_result"
    }
   ],
   "source": [
    "csr_data[~ csr_data[\"industry_code\"].isin(industry_code[\"code\"])]"
   ]
  },
  {
   "cell_type": "code",
   "execution_count": 32,
   "id": "96db0201",
   "metadata": {},
   "outputs": [
    {
     "data": {
      "text/plain": [
       "array(['L05005AP1987PLC018436', 'L05005TG1991PLC013618',\n",
       "       'L05190KA1921PLC036321', 'U05000MH1965SGC013380',\n",
       "       'U05000MH1979PTC021568', 'U05001GA1984PTC000593',\n",
       "       'U05001KL2006PTC019362', 'U05001MH1988PLC195637',\n",
       "       'U05001MH1995PLC243081', 'U05001TN1974SGC006597',\n",
       "       'U05001TN1987PLC014973', 'U05001TN1994PTC029251',\n",
       "       'U05003WB1995PLC070938', 'U05004AP1987PLC007578',\n",
       "       'U05004AP2001PTC036295', 'U05004AP2005PTC045716',\n",
       "       'U05004DL2007PTC169044', 'U05004GJ2009PLC056270',\n",
       "       'U05004KL1999PTC012901', 'U05004LD1987GOI004937',\n",
       "       'U05004TG2006PLC052078', 'U05004WB1994PLC061361',\n",
       "       'U05005AP1983PLC004128', 'U05005AP1985PLC005982',\n",
       "       'U05005AP1993PLC016243', 'U05005AP1993PTC015971',\n",
       "       'U05005AP1995PTC019973', 'U05005AP1997PLC027100',\n",
       "       'U05005AP2004PTC043949', 'U05005GA2006PTC004356',\n",
       "       'U05005KL2001PTC014443', 'U05005TG1995PLC021217',\n",
       "       'U05040KA1999PTC024822', 'U05110TZ1991PTC003138',\n",
       "       'U05110TZ1992PTC004072', 'U05110TZ2000PTC009278',\n",
       "       'U05121MH2004PTC199195', 'U05149KA2003PTC031507',\n",
       "       'U05150KA1995PTC018768', 'U05190KA2003PTC031788',\n",
       "       'U05190KA2003PTC032640', 'U05190KA2005PLC035984',\n",
       "       'U05190TZ2005PTC011946', 'U05190WB2002PLC183308',\n",
       "       'U05195MH1998PTC116021'], dtype=object)"
      ]
     },
     "execution_count": 32,
     "metadata": {},
     "output_type": "execute_result"
    }
   ],
   "source": [
    "csr_data[csr_data[\"industry_code\"]==\"05\"][\"CIN\"].unique()"
   ]
  },
  {
   "cell_type": "code",
   "execution_count": 10,
   "id": "40ebf3b3",
   "metadata": {},
   "outputs": [],
   "source": [
    "csr_data=pd.read_csv(\"master_data_plus.csv\")\n"
   ]
  },
  {
   "cell_type": "code",
   "execution_count": 15,
   "id": "1f95e230",
   "metadata": {},
   "outputs": [
    {
     "name": "stdout",
     "output_type": "stream",
     "text": [
      "nan*Agriculture, Hunting and related Service activities*Forestry, logging and related Service activities*Fishing, Operation of fish hatcheries and fish farms; Service activities incidental to fishing*Mining of coal and lignite, extraction of peat*Extraction of crude petroleum and natural gas, service activities incidental to oil and gas extraction excluding surveying*Mining of metal ores*Other Mining and Quarrying*Manufacture of food products and beverages*Manufacture of tobacco products*Manufacture of textiles*Manufacture of wearing apparel, dressing and dyeing of fur*Tanning and dressing of leather, manufacture of luggage handbags, saddlery & harness and footwear*Manufacture of wood and of products of wood and cork, except furniture; manufacture of articles of straw and plating materials*Manufacture of paper and paper products*Publishing, printing and reproduction of recorded media*Manufacture of coke, refined petroleum products and nuclear fuel*Manufacture of chemicals and chemical products*Manufacture of rubber and plastic products*Manufacture of other non-metallic mineral products*Manufacture of basic metals*Manufacture of fabricated metal products, except machinery and equipments*Manufacture of machinery and equipment n.e.c*Manufacture of office, accounting and computing machinery*Manufacture of electrical machinery and apparatus n.e.c*Manufacture of radio, television and communication equipment and apparatus*Manufacture of medical, precision and optical instruments, watches and clocks*Manufacture of motor vehicles, trailers and semi-trailers*Manufacture of other transport equipment*Manufacture of furniture; manufacturing n.e.c*Recycling*Electricity, gas, steam and hot water supply*Construction*Sale, maintenance and repair of motor vehicles and motorcycles; retail sale of automotive fuel*Wholesale trade and commission trade, except of motor vehicles and motorcycles*Retail trade, except of motor vehicles and motorcycles, repair of personal and household goods*Hotels and Restaurants*Land transport; transport via pipelines*Water Transport*Air Transpor*Supporting and auxiliary transport activities, activities of travel agencies*Post and telecommunications*Financial intermediation, except insurance and pension funding*Activities auxiliary to financial intermediation*Real estate activities*Renting of machinery and equipment without operator and of personal and household goods*Computer and related activities*Other Business Activities*Education*Health and Social Work*Activities of membership organizations n.e.c.*Recreational, cultural and sporting activities*Other Service activities*Extra territorial organizations and bodies*Mining of uranium and thorium ores*Collection, purification and distribution of water*Research and Development*Sewage and refuse disposal, sanitation and similar activities*Insurance and pension funding, except compulsory social security*Public Administration and Defence, compulsory social security*"
     ]
    },
    {
     "data": {
      "text/plain": [
       "[0, 1, 0, 1]"
      ]
     },
     "execution_count": 15,
     "metadata": {},
     "output_type": "execute_result"
    }
   ],
   "source": [
    "sector=csr_data[ \"Business Description\"].unique()\n"
   ]
  }
 ],
 "metadata": {
  "kernelspec": {
   "display_name": "Python 3",
   "language": "python",
   "name": "python3"
  },
  "language_info": {
   "codemirror_mode": {
    "name": "ipython",
    "version": 3
   },
   "file_extension": ".py",
   "mimetype": "text/x-python",
   "name": "python",
   "nbconvert_exporter": "python",
   "pygments_lexer": "ipython3",
   "version": "3.8.8"
  },
  "latex_envs": {
   "LaTeX_envs_menu_present": true,
   "autoclose": true,
   "autocomplete": true,
   "bibliofile": "biblio.bib",
   "cite_by": "apalike",
   "current_citInitial": 1,
   "eqLabelWithNumbers": true,
   "eqNumInitial": 1,
   "hotkeys": {
    "equation": "Ctrl-E",
    "itemize": "Ctrl-I"
   },
   "labels_anchors": false,
   "latex_user_defs": false,
   "report_style_numbering": false,
   "user_envs_cfg": false
  }
 },
 "nbformat": 4,
 "nbformat_minor": 5
}
